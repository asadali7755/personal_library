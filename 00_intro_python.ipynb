{
  "nbformat": 4,
  "nbformat_minor": 0,
  "metadata": {
    "colab": {
      "provenance": [],
      "authorship_tag": "ABX9TyNmiJTHNaBhcypJVPFI15bG",
      "include_colab_link": true
    },
    "kernelspec": {
      "name": "python3",
      "display_name": "Python 3"
    },
    "language_info": {
      "name": "python"
    }
  },
  "cells": [
    {
      "cell_type": "markdown",
      "metadata": {
        "id": "view-in-github",
        "colab_type": "text"
      },
      "source": [
        "<a href=\"https://colab.research.google.com/github/asadali7755/personal_library/blob/main/00_intro_python.ipynb\" target=\"_parent\"><img src=\"https://colab.research.google.com/assets/colab-badge.svg\" alt=\"Open In Colab\"/></a>"
      ]
    },
    {
      "cell_type": "code",
      "execution_count": null,
      "metadata": {
        "colab": {
          "base_uri": "https://localhost:8080/"
        },
        "id": "RrtjnSZSx99w",
        "outputId": "6dc4d280-3f1b-429a-fec2-bd57777039bd"
      },
      "outputs": [
        {
          "output_type": "stream",
          "name": "stdout",
          "text": [
            "01_add_two_numbers.\n",
            "this application for add two numbers\n",
            "Enter your first number22\n",
            "Enter your second number22\n",
            "the total sum of 22 and 22 is 44\n"
          ]
        }
      ],
      "source": [
        "print (\"01_add_two_numbers.\")\n",
        "\n",
        "def add():\n",
        "  print (\"this application for add two numbers\")\n",
        "  first_number = int(input(\"Enter your first number\"))\n",
        "  second_number = int(input(\"Enter your second number\"))\n",
        "  total = int(first_number + second_number)\n",
        "  print(f\"the total sum of {first_number} and {second_number} is {total}\")\n",
        "\n",
        "if __name__ == \"__main__\":\n",
        "  add()\n"
      ]
    },
    {
      "cell_type": "code",
      "source": [
        "print (\"02_agreement_bot\")\n",
        "def bot():\n",
        "    animal = str(input(\"What is your favorite animal? \"))\n",
        "    print(f\"My favorite animal is also {animal}\")\n",
        "\n",
        "if __name__ == \"__main__\":\n",
        "    bot()\n"
      ],
      "metadata": {
        "colab": {
          "base_uri": "https://localhost:8080/"
        },
        "id": "f4BpEsUQ7QtX",
        "outputId": "9846af3d-7c13-4646-d92c-fa9a161778a2"
      },
      "execution_count": null,
      "outputs": [
        {
          "output_type": "stream",
          "name": "stdout",
          "text": [
            "02_agreement_bot\n",
            "What is your favorite animal? cat\n",
            "My favorite animal is also cat\n"
          ]
        }
      ]
    },
    {
      "cell_type": "code",
      "source": [
        "print(\"03_fahrenheit_to_celsius\")\n",
        "def temp():\n",
        "  print(\"this code for converting fahrenheite to celsius\")\n",
        "  fahrenheite_degree = float(input(\"Enter yout fahrenheite degree\"))\n",
        "  celsius_degree = (fahrenheite_degree - 32) * 5.0/9.0\n",
        "  print(f\"Tremprature  {fahrenheite_degree} F = {celsius_degree} C\")\n",
        "if __name__ == \"__main__\":\n",
        "  temp()\n"
      ],
      "metadata": {
        "colab": {
          "base_uri": "https://localhost:8080/"
        },
        "id": "rXkRcIHO9_oQ",
        "outputId": "8934a145-adb3-4b90-ffda-57d837810e19"
      },
      "execution_count": null,
      "outputs": [
        {
          "output_type": "stream",
          "name": "stdout",
          "text": [
            "03_fahrenheit_to_celsius\n",
            "this code for converting fahrenheite to celsius\n",
            "Enter yout fahrenheite degree43\n",
            "Tremprature  43.0 F = 6.111111111111111 C\n"
          ]
        }
      ]
    },
    {
      "cell_type": "code",
      "source": [
        "print (\"04 how old are they\")\n",
        "def add_ages():\n",
        "  anthon:int = 12\n",
        "  beth:int = anthon + 6\n",
        "  chen:int = beth + 20\n",
        "  drew:int = chen + anthon\n",
        "  ethan:int = chen\n",
        "\n",
        "  print(\"anthon is \" + str (anthon))\n",
        "  print(\"beth is \" + str(beth))\n",
        "  print(\"chen is \" + str(chen))\n",
        "  print(\"drew is \" + str(drew))\n",
        "  print(\"ethon is \" + str(ethan))\n",
        "if __name__ == \"__main__\":\n",
        "  add_ages()"
      ],
      "metadata": {
        "colab": {
          "base_uri": "https://localhost:8080/"
        },
        "id": "OzTsxJkwCjkx",
        "outputId": "da087658-cc7f-4498-f0aa-e4dd0b45f60b"
      },
      "execution_count": null,
      "outputs": [
        {
          "output_type": "stream",
          "name": "stdout",
          "text": [
            "04 how old are they\n",
            "anthon is 12\n",
            "beth is 18\n",
            "chen is 38\n",
            "drew is 50\n",
            "ethon is 38\n"
          ]
        }
      ]
    },
    {
      "cell_type": "code",
      "source": [
        "print (\"05_triangle_perimeter\")\n",
        "def triangle():\n",
        "  print(\"this code is about sum of trinagle side\")\n",
        "  side1:float = float (input(\"enyter your first side no of trinagle,\"))\n",
        "  side2:float = float (input(\"enyter your second side no of trinagle,\"))\n",
        "  side3:float = float (input(\"enyter your third side no of trinagle,\"))\n",
        "  perimeter:float = float(side1 + side2 + side3)\n",
        "  print(f\"the sum of {side1} and {side2} a5nd {side3} is {perimeter}\")\n",
        "\n",
        "if __name__ == \"__main__\":\n",
        "  triangle()"
      ],
      "metadata": {
        "colab": {
          "base_uri": "https://localhost:8080/"
        },
        "id": "nlT9oN_rGpiN",
        "outputId": "61ad43af-b537-4473-d714-7544e4283019"
      },
      "execution_count": null,
      "outputs": [
        {
          "output_type": "stream",
          "name": "stdout",
          "text": [
            "05_triangle_perimeter\n",
            "this code is about sum of trinagle side\n",
            "enyter your first side no of trinagle,2\n",
            "enyter your second side no of trinagle,3\n",
            "enyter your third side no of trinagle,4\n",
            "the sum of 2.0 and 3.0 nad 4.0 is 9.0\n"
          ]
        }
      ]
    },
    {
      "cell_type": "code",
      "source": [
        "print (\"06_square_number\")\n",
        "\n",
        "def square():\n",
        "  print(\"this code is about square of giveing number\")\n",
        "  num1:int = int(input(\"Enter your number and i will give you square value\"))\n",
        "  print(f\"the square of {num1} is {num1 ** num1}\")\n",
        "\n",
        "if __name__ == \"__main__\":\n",
        "  square()"
      ],
      "metadata": {
        "colab": {
          "base_uri": "https://localhost:8080/"
        },
        "id": "QNtP1QmRJWdj",
        "outputId": "e21c7109-a0a9-46f9-85a4-20b65b13d57c"
      },
      "execution_count": null,
      "outputs": [
        {
          "output_type": "stream",
          "name": "stdout",
          "text": [
            "06_square_number\n",
            "this code is about square of giveing number\n",
            "Enter your number and i will give you square value5\n",
            "the square of 5 is 3125\n"
          ]
        }
      ]
    },
    {
      "cell_type": "code",
      "source": [],
      "metadata": {
        "id": "DMOqhDD5EkRZ"
      },
      "execution_count": null,
      "outputs": []
    }
  ]
}